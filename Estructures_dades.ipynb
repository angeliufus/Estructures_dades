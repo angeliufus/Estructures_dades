{
 "cells": [
  {
   "cell_type": "markdown",
   "id": "e4f36f21",
   "metadata": {},
   "source": [
    "# TASCA M2 T01"
   ]
  },
  {
   "cell_type": "markdown",
   "id": "eecd20a3",
   "metadata": {},
   "source": [
    "## Exercici 1"
   ]
  },
  {
   "cell_type": "code",
   "execution_count": 1,
   "id": "08fa18a7",
   "metadata": {},
   "outputs": [
    {
     "name": "stdout",
     "output_type": "stream",
     "text": [
      "[['Gener', 'Febrer', 'Març'], ['Abril', 'Maig', 'Juny'], ['Juliol', 'Agost', 'Setembre'], ['Octubre', 'Novembre', 'Desembre']]\n"
     ]
    }
   ],
   "source": [
    "list_1T = [\"Gener\", \"Febrer\", \"Març\"]\n",
    "list_2T = [\"Abril\", \"Maig\", \"Juny\"]\n",
    "list_3T = [\"Juliol\", \"Agost\", \"Setembre\"]\n",
    "list_4T = [\"Octubre\",\"Novembre\",\"Desembre\"]\n",
    "ANY = [list_1T,list_2T,list_3T,list_4T]\n",
    "print (ANY)\n"
   ]
  },
  {
   "cell_type": "markdown",
   "id": "a64c4def",
   "metadata": {},
   "source": [
    "## Exercici 2"
   ]
  },
  {
   "cell_type": "code",
   "execution_count": 20,
   "id": "ef20fe1a",
   "metadata": {},
   "outputs": [
    {
     "name": "stdout",
     "output_type": "stream",
     "text": [
      "Febrer\n"
     ]
    }
   ],
   "source": [
    "print(list_1T[1])"
   ]
  },
  {
   "cell_type": "code",
   "execution_count": 22,
   "id": "55119710",
   "metadata": {},
   "outputs": [
    {
     "name": "stdout",
     "output_type": "stream",
     "text": [
      "['Gener', 'Febrer', 'Març']\n"
     ]
    }
   ],
   "source": [
    "print(list_1T)"
   ]
  },
  {
   "cell_type": "code",
   "execution_count": 24,
   "id": "a083a8c9",
   "metadata": {},
   "outputs": [
    {
     "name": "stdout",
     "output_type": "stream",
     "text": [
      "Setembre i Octubre\n"
     ]
    }
   ],
   "source": [
    "print(list_3T[2],\"i\",list_4T[0])"
   ]
  },
  {
   "cell_type": "markdown",
   "id": "a588046e",
   "metadata": {},
   "source": [
    "## Exercici 3"
   ]
  },
  {
   "cell_type": "code",
   "execution_count": 30,
   "id": "16f3c139",
   "metadata": {},
   "outputs": [],
   "source": [
    "list_Angels = [1, 234, 35, 967, 678, 19, 23457]"
   ]
  },
  {
   "cell_type": "markdown",
   "id": "215c94a2",
   "metadata": {},
   "source": [
    "- Quants números hi ha?"
   ]
  },
  {
   "cell_type": "code",
   "execution_count": 46,
   "id": "b6f57c68",
   "metadata": {},
   "outputs": [
    {
     "name": "stdout",
     "output_type": "stream",
     "text": [
      "El nombre d'elements a la llista és:  7\n"
     ]
    }
   ],
   "source": [
    "print(\"El nombre d'elements a la llista és: \",len(list_Angels))"
   ]
  },
  {
   "cell_type": "markdown",
   "id": "b9a842d6",
   "metadata": {},
   "source": [
    "- Quantes vegades apareix el número 3."
   ]
  },
  {
   "cell_type": "code",
   "execution_count": 72,
   "id": "0060c0af",
   "metadata": {},
   "outputs": [
    {
     "name": "stdout",
     "output_type": "stream",
     "text": [
      "El numero 3 ha sortit: 0 vegades\n"
     ]
    }
   ],
   "source": [
    "print(\"El numero 3 ha sortit:\",list_Angels.count(3), \"vegades\")"
   ]
  },
  {
   "cell_type": "markdown",
   "id": "cbe53c7b",
   "metadata": {},
   "source": [
    "- Quantes vegades apareix els nombres 3 i 4"
   ]
  },
  {
   "cell_type": "code",
   "execution_count": 80,
   "id": "5ce3dfb5",
   "metadata": {},
   "outputs": [
    {
     "name": "stdout",
     "output_type": "stream",
     "text": [
      "El numero 3 i 4 hi surten: 0 vegades\n"
     ]
    }
   ],
   "source": [
    "print(\"El numero 3 i 4 hi surten:\",list_Angels.count(3) or list_Angels.count(4), \"vegades\")"
   ]
  },
  {
   "cell_type": "markdown",
   "id": "d5f6c712",
   "metadata": {},
   "source": [
    "- Quin és el número més gran?"
   ]
  },
  {
   "cell_type": "code",
   "execution_count": 82,
   "id": "b87808c9",
   "metadata": {},
   "outputs": [
    {
     "name": "stdout",
     "output_type": "stream",
     "text": [
      "El nombre mes gran és el: 23457\n"
     ]
    }
   ],
   "source": [
    "print(\"El nombre mes gran és el:\", max(list_Angels))"
   ]
  },
  {
   "cell_type": "markdown",
   "id": "9016e8c6",
   "metadata": {},
   "source": [
    "- Quins són els 3 números més petits?"
   ]
  },
  {
   "cell_type": "code",
   "execution_count": 86,
   "id": "8a8d1786",
   "metadata": {},
   "outputs": [
    {
     "name": "stdout",
     "output_type": "stream",
     "text": [
      "Els 3 nombres mes petits son: [1, 19, 35]\n"
     ]
    }
   ],
   "source": [
    "print(\"Els 3 nombres mes petits son:\", sorted(list_Angels)[:3])"
   ]
  },
  {
   "cell_type": "markdown",
   "id": "efa8e1af",
   "metadata": {},
   "source": [
    "- Quin és el rang d’aquesta llista?"
   ]
  },
  {
   "cell_type": "code",
   "execution_count": 121,
   "id": "b6de093e",
   "metadata": {},
   "outputs": [
    {
     "data": {
      "text/plain": [
       "[22749, 18498, 15298, 11056, 4070, 5749, 7036]"
      ]
     },
     "execution_count": 121,
     "metadata": {},
     "output_type": "execute_result"
    }
   ],
   "source": [
    "import random\n",
    "random.sample(range (23458),7)"
   ]
  },
  {
   "cell_type": "code",
   "execution_count": 123,
   "id": "6ae6635c",
   "metadata": {},
   "outputs": [
    {
     "name": "stdout",
     "output_type": "stream",
     "text": [
      "Es una llista de nombres que he creat random i desordenat per tant en Python podriem fer aquesta formula important el modul random i per exemple amb : random.sample(range(23458), 7)\n"
     ]
    }
   ],
   "source": [
    "print(\"Es una llista de nombres que he creat random i desordenat per tant en Python podriem fer aquesta formula important el modul random i per exemple amb : random.sample(range(23458), 7)\")"
   ]
  },
  {
   "cell_type": "markdown",
   "id": "14a9bca2",
   "metadata": {},
   "source": [
    "## Exercici 4"
   ]
  },
  {
   "cell_type": "markdown",
   "id": "78561a35",
   "metadata": {},
   "source": [
    "- Crea un diccionari de la següent forma i respon a les preguntes:"
   ]
  },
  {
   "cell_type": "code",
   "execution_count": 252,
   "id": "75f15da9",
   "metadata": {},
   "outputs": [],
   "source": [
    "compra = { \"Pomes\" : {\"Qty\": 5, \"€\": 0.42}, \"Peres\" : {\"Qty\": 3, \"€\": 0.66} }"
   ]
  },
  {
   "cell_type": "code",
   "execution_count": 125,
   "id": "a470c41e",
   "metadata": {},
   "outputs": [
    {
     "name": "stdout",
     "output_type": "stream",
     "text": [
      "<class 'dict'>\n"
     ]
    }
   ],
   "source": [
    "print(type(compra))"
   ]
  },
  {
   "cell_type": "markdown",
   "id": "2d3f9bba",
   "metadata": {},
   "source": [
    "- Afegeix alguna fruita més"
   ]
  },
  {
   "cell_type": "code",
   "execution_count": 126,
   "id": "bd6eb8f9",
   "metadata": {},
   "outputs": [],
   "source": [
    "compra[\"Mangos\"] = {\"Qty\": 4, \"€\": 2}"
   ]
  },
  {
   "cell_type": "code",
   "execution_count": 130,
   "id": "3cb61e23",
   "metadata": {},
   "outputs": [
    {
     "name": "stdout",
     "output_type": "stream",
     "text": [
      "Afegeixo mangos, que es una fruita tropical mes cara: {'Pomes': {'Qty': 5, '€': 0.42}, 'Peres': {'Qty': 3, '€': 0.66}, 'Mangos': {'Qty': 4, '€': 2}}\n"
     ]
    }
   ],
   "source": [
    "print(\"Afegeixo mangos, que es una fruita tropical mes cara:\", compra)"
   ]
  },
  {
   "cell_type": "markdown",
   "id": "3ec192fa",
   "metadata": {},
   "source": [
    "- Quant han costat les peres en total?"
   ]
  },
  {
   "cell_type": "code",
   "execution_count": 210,
   "id": "6b6ad227",
   "metadata": {},
   "outputs": [
    {
     "name": "stdout",
     "output_type": "stream",
     "text": [
      "{'Qty': 3, '€': 0.66}\n"
     ]
    }
   ],
   "source": [
    "variables_peres = compra.get(\"Peres\")\n",
    "\n",
    "print(variables_peres)"
   ]
  },
  {
   "cell_type": "code",
   "execution_count": 214,
   "id": "65fdf340",
   "metadata": {},
   "outputs": [
    {
     "name": "stdout",
     "output_type": "stream",
     "text": [
      "El preu de les peres és [0.66]\n"
     ]
    }
   ],
   "source": [
    "preu = ['€']\n",
    "preu_peres = [variables_peres.get(key) for key in preu]\n",
    "print(\"El preu de les peres és\", preu_peres)"
   ]
  },
  {
   "cell_type": "code",
   "execution_count": 215,
   "id": "2199ff65",
   "metadata": {},
   "outputs": [
    {
     "name": "stdout",
     "output_type": "stream",
     "text": [
      "La quantitat de peres son [3]\n"
     ]
    }
   ],
   "source": [
    "quantitat = ['Qty']\n",
    "quantitat_peres = [variables_peres.get(key) for key in quantitat]\n",
    "print (\"La quantitat de peres son\", quantitat_peres)"
   ]
  },
  {
   "cell_type": "code",
   "execution_count": 302,
   "id": "97cee200",
   "metadata": {},
   "outputs": [
    {
     "name": "stdout",
     "output_type": "stream",
     "text": [
      "El preu total de les Peres és: 1.98 €\n"
     ]
    }
   ],
   "source": [
    "peres= compra[\"Peres\"]\n",
    "peresproduct = quantitat_peres[0] * preu_peres[0]\n",
    "print(\"El preu total de les Peres és:\", peresproduct,\"€\")"
   ]
  },
  {
   "cell_type": "markdown",
   "id": "3863fc14",
   "metadata": {},
   "source": [
    "- Quina és la fruita més cara?"
   ]
  },
  {
   "cell_type": "code",
   "execution_count": 137,
   "id": "07dabee2",
   "metadata": {},
   "outputs": [],
   "source": [
    "Fruita_mescara = max([int(i['€']) for i in compra.values()])"
   ]
  },
  {
   "cell_type": "code",
   "execution_count": 138,
   "id": "9637fe87",
   "metadata": {},
   "outputs": [
    {
     "name": "stdout",
     "output_type": "stream",
     "text": [
      "2 €\n"
     ]
    }
   ],
   "source": [
    "print(Fruita_mescara,\"€\")"
   ]
  },
  {
   "cell_type": "code",
   "execution_count": 191,
   "id": "baa38047",
   "metadata": {},
   "outputs": [
    {
     "name": "stdout",
     "output_type": "stream",
     "text": [
      "[0, 0, 2]\n"
     ]
    }
   ],
   "source": [
    "preus_en_euros=[int(i['€']) for i in compra.values()]\n",
    "print(preus_en_euros)\n"
   ]
  },
  {
   "cell_type": "code",
   "execution_count": 192,
   "id": "9ab593b1",
   "metadata": {},
   "outputs": [
    {
     "name": "stdout",
     "output_type": "stream",
     "text": [
      "['Pomes', 'Peres', 'Mangos']\n"
     ]
    }
   ],
   "source": [
    "noms_de_fruites=list(compra.keys())\n",
    "print(noms_de_fruites)"
   ]
  },
  {
   "cell_type": "code",
   "execution_count": 196,
   "id": "32dbed24",
   "metadata": {},
   "outputs": [
    {
     "name": "stdout",
     "output_type": "stream",
     "text": [
      "La fruita mes cara son els Mangos\n"
     ]
    }
   ],
   "source": [
    "print(\"La fruita mes cara son els\", noms_de_fruites[preus_en_euros.index(max(preus_en_euros))])"
   ]
  },
  {
   "cell_type": "code",
   "execution_count": null,
   "id": "424ad81b",
   "metadata": {},
   "outputs": [],
   "source": []
  }
 ],
 "metadata": {
  "kernelspec": {
   "display_name": "Python 3 (ipykernel)",
   "language": "python",
   "name": "python3"
  },
  "language_info": {
   "codemirror_mode": {
    "name": "ipython",
    "version": 3
   },
   "file_extension": ".py",
   "mimetype": "text/x-python",
   "name": "python",
   "nbconvert_exporter": "python",
   "pygments_lexer": "ipython3",
   "version": "3.9.12"
  }
 },
 "nbformat": 4,
 "nbformat_minor": 5
}
