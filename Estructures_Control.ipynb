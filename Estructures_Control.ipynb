{
 "cells": [
  {
   "cell_type": "markdown",
   "id": "b6b812fe",
   "metadata": {},
   "source": [
    "# TASCA M2 T02"
   ]
  },
  {
   "cell_type": "markdown",
   "id": "bd6f2a2f",
   "metadata": {},
   "source": [
    "## Exercici 1"
   ]
  },
  {
   "cell_type": "code",
   "execution_count": null,
   "id": "744857b6",
   "metadata": {},
   "outputs": [],
   "source": [
    "Nombre = float(input(\"Entra la teva nota del 0 al 10 si us plau:\" ))\n",
    "\n",
    "while Nombre <0 or Nombre > 10:\n",
    "    print(\"Error. Entra un nombre del 0 al 10, si us plau:\")\n",
    "    Nombre = float(input(\"Entra un nombre del 0 al 10: \"))\n",
    "                     \n",
    "if Nombre >= 0 and Nombre < 5:\n",
    "    Nota = \"Suspès\"\n",
    "elif Nombre >= 5 and Nombre <= 7:\n",
    "    Nota = \"Aprovat\"\n",
    "elif Nombre > 7 and Nombre < 9:\n",
    "    Nota = \"Notable\"\n",
    "elif Nombre >= 9 and Nombre <= 10:\n",
    "    Nota = \"Excel·lent\"\n",
    "                     \n",
    "print( \"La nota que has tret és: \",Nota)"
   ]
  },
  {
   "cell_type": "markdown",
   "id": "f306f977",
   "metadata": {},
   "source": [
    "## Exercici 2"
   ]
  },
  {
   "cell_type": "code",
   "execution_count": null,
   "id": "d83520b6",
   "metadata": {},
   "outputs": [],
   "source": [
    "num = input('Entra un nombre: ')"
   ]
  },
  {
   "cell_type": "code",
   "execution_count": null,
   "id": "b4462108",
   "metadata": {},
   "outputs": [],
   "source": []
  }
 ],
 "metadata": {
  "kernelspec": {
   "display_name": "Python 3 (ipykernel)",
   "language": "python",
   "name": "python3"
  },
  "language_info": {
   "codemirror_mode": {
    "name": "ipython",
    "version": 3
   },
   "file_extension": ".py",
   "mimetype": "text/x-python",
   "name": "python",
   "nbconvert_exporter": "python",
   "pygments_lexer": "ipython3",
   "version": "3.9.12"
  }
 },
 "nbformat": 4,
 "nbformat_minor": 5
}
